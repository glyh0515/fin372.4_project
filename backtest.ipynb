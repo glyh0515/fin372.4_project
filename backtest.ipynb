{
 "cells": [
  {
   "cell_type": "markdown",
   "metadata": {},
   "source": [
    "# <span style=\"color:green\">Quant Platform</span>"
   ]
  },
  {
   "cell_type": "markdown",
   "metadata": {},
   "source": [
    "The <span style=\"color:green\">*Quant Platform*</span> is a framework for conducting backtests and analyzing the results that can be easily adapted for live trading. Some components needs to be modified or adapted for each strategy being backtested, others can be left alone."
   ]
  },
  {
   "cell_type": "markdown",
   "metadata": {},
   "source": [
    "### Overview of components for <span style=\"color:green\">Quant Platform</span>"
   ]
  },
  {
   "cell_type": "markdown",
   "metadata": {},
   "source": [
    "<span style=\"color:blue\">Blue</span> components require little to no modification for each strategy tested, while <span style=\"color:orange\">orange</span> components do require modification\n",
    "\n",
    "1. <span style=\"color:orange\">Data Processor</span>\n",
    "    - Loads and merges data\n",
    "    - Provides universe of securities and signals for each date\n",
    "1. <span style=\"color:blue\">Portfolio</span>\n",
    "    - Tracks current portfolio and account balance sheet\n",
    "    - Keeps records of all trades/transactions\n",
    "    - Keeps history of NAV and margin requirements\n",
    "1. <span style=\"color:orange\">Trading Rule</span>\n",
    "    - Decides which trades to make given a universe of securities, signals, and current portfolio\n",
    "1. <span style=\"color:blue\">Executor</span>\n",
    "    - \"Submits\" order either hypothetically using historical data or live to a brokerage\n",
    "    - Calculates or retrieves transaction prices accounting for any liquidity costs\n",
    "1. <span style=\"color:blue\">Statistician</span>\n",
    "    - Looks at results of backtest or live trading and computes statistics ($\\alpha$ etc) as well as informative plots (e.g. NAV and margin over time)"
   ]
  },
  {
   "cell_type": "markdown",
   "metadata": {},
   "source": [
    "### Pseudo-code for backtest\n",
    "\n",
    "At a high level, our backtest will:\n",
    "\n",
    "1. Tell the **Data Processor** to load all the necessary data\n",
    "1. For each unique date in the data:\n",
    "    1. Get signal (book and market values of equity in this case) and price data for that date from the **Data Processor**\n",
    "    1. Tell **Portfolio** to update prices based on new data\n",
    "    1. Ask **Trading Rule** to decide which trades to make\n",
    "    1. Tell **Executor** to execute the trades\n",
    "    1. Update **Portfolio** to reflect the executed trades\n",
    "1. Tell **Statistician** to summarize the results"
   ]
  },
  {
   "cell_type": "code",
   "execution_count": 1,
   "metadata": {
    "tags": []
   },
   "outputs": [],
   "source": [
    "# Imports\n",
    "from IPython.display import display, Markdown, Latex, clear_output\n",
    "import numpy as np\n",
    "import pandas as pd\n",
    "import warnings\n",
    "\n",
    "# To ignore all warnings (not recommended unless you're sure)\n",
    "warnings.filterwarnings(\"ignore\")\n"
   ]
  },
  {
   "cell_type": "code",
   "execution_count": 2,
   "metadata": {
    "tags": []
   },
   "outputs": [],
   "source": [
    "# Step 1: \"Run\" the notebooks containing definitions of the specifics of the data, strategy, and post-test statistics we want to compute\n",
    "# Think about this as importing these tools but not using them yet\n",
    "\n",
    "# These tools should be changed depending on the strategy you are testing\n",
    "%run dr_data_processor.ipynb\n",
    "%run dr_trading_rule.ipynb\n",
    "\n",
    "# # These tools should remain unchanged across strategies unless you have a good reason to change them\n",
    "%run portfolio_db.ipynb\n",
    "%run backtest_executor.ipynb # if you were live trading a strategy, this would be replace by code that submitted orders etc"
   ]
  },
  {
   "cell_type": "code",
   "execution_count": 3,
   "metadata": {
    "tags": []
   },
   "outputs": [],
   "source": [
    "# Step 2: Create the tools we'll need to do the backtest\n",
    "# These can be customized and changed while keeping the rest of this file (the backtest logic) the same\n",
    "\n",
    "# DO edit this code to make sure that the specifics tools you want for this backtest are chosen here\n",
    "\n",
    "# DO NOT edit the names of the variables, only what's assigned to them. So \n",
    "# good: data_processor = MyNewDataProcessor() \n",
    "# bad: my_new_data_processor = MyNewDataProcessor()\n",
    "\n",
    "# Data processor, in charge of loading and doling out data\n",
    "data_processor = DRDataProcessor() "
   ]
  },
  {
   "cell_type": "code",
   "execution_count": 4,
   "metadata": {
    "tags": []
   },
   "outputs": [],
   "source": [
    "# Portfolio database, keeps track of all the trades the backtest makes, the strategy NAV, and the current portfolio as we go through the backtest\n",
    "%run portfolio_db.ipynb\n",
    "portfolio_db = PortfolioDB()\n",
    "\n",
    "# Strategy logic, in charge of choosing trades based on current portfolio and data\n",
    "# This exact code would be used for live trading \n",
    "trading_rule = DRTradingRule(portfolio_db)\n",
    "\n",
    "# Trade executor, in charge of \"executing\" trades the strategy decides on, turning them into transactions and updating the portfolio\n",
    "trade_executor = BacktestExecutor(portfolio_db)\n",
    "\n",
    "# Info about the strategy, used for ex-post statistics and output not the actual backtest\n",
    "strategy_info = {\n",
    "    'brief descriptor': '6 months', \n",
    "    'plot descriptor': 'Equal (drc/lt) Strategy, Equal-Weighted',\n",
    "    'universe': 'Public US equities with accounting data',\n",
    "    'signals': 'DRC/LT ratio, measured at most recent earnings announcement',\n",
    "    'trading rule': 'Buy top 10% by DRC/LT ratio',\n",
    "    'holding period': 'One month',\n",
    "    'periods per year': 12,\n",
    "    'time lag': 'Minimum of {0} days from announcement of montyhly earnings'.format(data_processor.min_accounting_lag),\n",
    "    'output folder name': 'Output'\n",
    "}\n",
    "\n",
    "# Statistician, used to tabulate and plot statistics after the backtest runs\n",
    "%run backtest_statistician.ipynb\n",
    "statistican = BacktestStatistican(portfolio_db,strategy_info)"
   ]
  },
  {
   "cell_type": "code",
   "execution_count": 5,
   "metadata": {
    "scrolled": true,
    "tags": []
   },
   "outputs": [
    {
     "data": {
      "text/plain": [
       "'2005-09-30: 42.64767570964146 | 106.60555580170595'"
      ]
     },
     "metadata": {},
     "output_type": "display_data"
    },
    {
     "name": "stdout",
     "output_type": "stream",
     "text": [
      "0      True\n",
      "1      True\n",
      "2      True\n",
      "3      True\n",
      "4      True\n",
      "       ... \n",
      "124    True\n",
      "125    True\n",
      "126    True\n",
      "127    True\n",
      "128    True\n",
      "Name: close_datetime, Length: 129, dtype: bool\n",
      "         quantity  open_average_price close_datetime  close_average_price  \\\n",
      "0   -8.716876e-03             715.566            NaT                  NaN   \n",
      "1    2.083333e-02             300.600            NaT                  NaN   \n",
      "2    9.704969e-04            6452.880            NaT                  NaN   \n",
      "3   -1.888218e-02             330.338            NaT                  NaN   \n",
      "4    1.302083e-02             480.960            NaT                  NaN   \n",
      "..            ...                 ...            ...                  ...   \n",
      "125 -1.908747e-04            2140.710            NaT                  NaN   \n",
      "126  1.109556e-04            3697.380            NaT                  NaN   \n",
      "127 -1.899890e-04            2150.690            NaT                  NaN   \n",
      "128  7.888752e-07          520038.000            NaT                  NaN   \n",
      "129 -1.127896e-04            3622.740            NaT                  NaN   \n",
      "\n",
      "     drc security_id open_datetime        dr  quantity_multiple  \n",
      "0    NaN      102507    2005-08-31  0.010926                1.0  \n",
      "1    NaN      205562    2005-08-31  1.097254                1.0  \n",
      "2    NaN      206755    2005-08-31  8.223188                1.0  \n",
      "3    NaN      209185    2005-08-31  0.012642                1.0  \n",
      "4    NaN      246952    2005-08-31  2.340685                1.0  \n",
      "..   ...         ...           ...       ...                ...  \n",
      "125  NaN      259318    2005-09-30  0.000460                1.0  \n",
      "126  NaN      270543    2005-09-30  1.010946                1.0  \n",
      "127  NaN      271034    2005-09-30  0.006364                1.0  \n",
      "128  NaN      271134    2005-09-30  2.205357                1.0  \n",
      "129  NaN      271268    2005-09-30  0.014409                1.0  \n",
      "\n",
      "[130 rows x 9 columns]\n"
     ]
    },
    {
     "ename": "AssertionError",
     "evalue": "",
     "output_type": "error",
     "traceback": [
      "\u001b[1;31m---------------------------------------------------------------------------\u001b[0m",
      "\u001b[1;31mAssertionError\u001b[0m                            Traceback (most recent call last)",
      "Cell \u001b[1;32mIn[5], line 19\u001b[0m\n\u001b[0;32m     15\u001b[0m price_df \u001b[38;5;241m=\u001b[39m data_processor\u001b[38;5;241m.\u001b[39mprice_df_for_date(date)\n\u001b[0;32m     17\u001b[0m \u001b[38;5;66;03m# Update prices to reflect the new values after however much time has passed\u001b[39;00m\n\u001b[0;32m     18\u001b[0m \u001b[38;5;66;03m# Need to dot his first each date because the updated prices may affect our trading rule\u001b[39;00m\n\u001b[1;32m---> 19\u001b[0m portfolio_db\u001b[38;5;241m.\u001b[39mupdate_prices(price_df)\n\u001b[0;32m     21\u001b[0m \u001b[38;5;66;03m# Ask the trading rule what trades we should make\u001b[39;00m\n\u001b[0;32m     22\u001b[0m open_trades_df, close_trades_df \u001b[38;5;241m=\u001b[39m trading_rule\u001b[38;5;241m.\u001b[39mcompute_trades(signal_df\u001b[38;5;241m=\u001b[39msignal_df)\n",
      "File \u001b[1;32m~\\AppData\\Local\\Temp\\ipykernel_11860\\2097621723.py:219\u001b[0m, in \u001b[0;36mPortfolioDB.update_prices\u001b[1;34m(self, price_df)\u001b[0m\n\u001b[0;32m    217\u001b[0m \u001b[38;5;28mprint\u001b[39m(still_open)\n\u001b[0;32m    218\u001b[0m \u001b[38;5;28mprint\u001b[39m(\u001b[38;5;28mself\u001b[39m\u001b[38;5;241m.\u001b[39mtrades_df)\n\u001b[1;32m--> 219\u001b[0m \u001b[38;5;28mself\u001b[39m\u001b[38;5;241m.\u001b[39mtrades_df\u001b[38;5;241m.\u001b[39mloc[still_open,\u001b[38;5;124m'\u001b[39m\u001b[38;5;124mquantity\u001b[39m\u001b[38;5;124m'\u001b[39m] \u001b[38;5;241m=\u001b[39m \u001b[38;5;28mself\u001b[39m\u001b[38;5;241m.\u001b[39mtrades_df\u001b[38;5;241m.\u001b[39mloc[still_open,\u001b[38;5;124m'\u001b[39m\u001b[38;5;124mquantity\u001b[39m\u001b[38;5;124m'\u001b[39m]\u001b[38;5;241m*\u001b[39m\u001b[38;5;28mself\u001b[39m\u001b[38;5;241m.\u001b[39mtrades_df\u001b[38;5;241m.\u001b[39mloc[still_open,\u001b[38;5;124m'\u001b[39m\u001b[38;5;124mquantity_multiple\u001b[39m\u001b[38;5;124m'\u001b[39m]          \n\u001b[0;32m    221\u001b[0m \u001b[38;5;66;03m# drop the _posdf suffix values\u001b[39;00m\n\u001b[0;32m    222\u001b[0m \u001b[38;5;28mself\u001b[39m\u001b[38;5;241m.\u001b[39mtrades_df \u001b[38;5;241m=\u001b[39m \u001b[38;5;28mself\u001b[39m\u001b[38;5;241m.\u001b[39mtrades_df\u001b[38;5;241m.\u001b[39mloc[:,\u001b[38;5;241m~\u001b[39m\u001b[38;5;28mself\u001b[39m\u001b[38;5;241m.\u001b[39mtrades_df\u001b[38;5;241m.\u001b[39mcolumns\u001b[38;5;241m.\u001b[39mstr\u001b[38;5;241m.\u001b[39mendswith(\u001b[38;5;124m'\u001b[39m\u001b[38;5;124m_posdf\u001b[39m\u001b[38;5;124m'\u001b[39m)]\n",
      "File \u001b[1;32m~\\miniconda3\\Lib\\site-packages\\pandas\\core\\indexing.py:1147\u001b[0m, in \u001b[0;36m_LocationIndexer.__getitem__\u001b[1;34m(self, key)\u001b[0m\n\u001b[0;32m   1145\u001b[0m     \u001b[38;5;28;01mif\u001b[39;00m \u001b[38;5;28mself\u001b[39m\u001b[38;5;241m.\u001b[39m_is_scalar_access(key):\n\u001b[0;32m   1146\u001b[0m         \u001b[38;5;28;01mreturn\u001b[39;00m \u001b[38;5;28mself\u001b[39m\u001b[38;5;241m.\u001b[39mobj\u001b[38;5;241m.\u001b[39m_get_value(\u001b[38;5;241m*\u001b[39mkey, takeable\u001b[38;5;241m=\u001b[39m\u001b[38;5;28mself\u001b[39m\u001b[38;5;241m.\u001b[39m_takeable)\n\u001b[1;32m-> 1147\u001b[0m     \u001b[38;5;28;01mreturn\u001b[39;00m \u001b[38;5;28mself\u001b[39m\u001b[38;5;241m.\u001b[39m_getitem_tuple(key)\n\u001b[0;32m   1148\u001b[0m \u001b[38;5;28;01melse\u001b[39;00m:\n\u001b[0;32m   1149\u001b[0m     \u001b[38;5;66;03m# we by definition only have the 0th axis\u001b[39;00m\n\u001b[0;32m   1150\u001b[0m     axis \u001b[38;5;241m=\u001b[39m \u001b[38;5;28mself\u001b[39m\u001b[38;5;241m.\u001b[39maxis \u001b[38;5;129;01mor\u001b[39;00m \u001b[38;5;241m0\u001b[39m\n",
      "File \u001b[1;32m~\\miniconda3\\Lib\\site-packages\\pandas\\core\\indexing.py:1339\u001b[0m, in \u001b[0;36m_LocIndexer._getitem_tuple\u001b[1;34m(self, tup)\u001b[0m\n\u001b[0;32m   1336\u001b[0m \u001b[38;5;28;01mif\u001b[39;00m \u001b[38;5;28mself\u001b[39m\u001b[38;5;241m.\u001b[39m_multi_take_opportunity(tup):\n\u001b[0;32m   1337\u001b[0m     \u001b[38;5;28;01mreturn\u001b[39;00m \u001b[38;5;28mself\u001b[39m\u001b[38;5;241m.\u001b[39m_multi_take(tup)\n\u001b[1;32m-> 1339\u001b[0m \u001b[38;5;28;01mreturn\u001b[39;00m \u001b[38;5;28mself\u001b[39m\u001b[38;5;241m.\u001b[39m_getitem_tuple_same_dim(tup)\n",
      "File \u001b[1;32m~\\miniconda3\\Lib\\site-packages\\pandas\\core\\indexing.py:997\u001b[0m, in \u001b[0;36m_LocationIndexer._getitem_tuple_same_dim\u001b[1;34m(self, tup)\u001b[0m\n\u001b[0;32m    994\u001b[0m     retval \u001b[38;5;241m=\u001b[39m \u001b[38;5;28mgetattr\u001b[39m(retval, \u001b[38;5;28mself\u001b[39m\u001b[38;5;241m.\u001b[39mname)\u001b[38;5;241m.\u001b[39m_getitem_axis(key, axis\u001b[38;5;241m=\u001b[39mi)\n\u001b[0;32m    995\u001b[0m     \u001b[38;5;66;03m# We should never have retval.ndim < self.ndim, as that should\u001b[39;00m\n\u001b[0;32m    996\u001b[0m     \u001b[38;5;66;03m#  be handled by the _getitem_lowerdim call above.\u001b[39;00m\n\u001b[1;32m--> 997\u001b[0m     \u001b[38;5;28;01massert\u001b[39;00m retval\u001b[38;5;241m.\u001b[39mndim \u001b[38;5;241m==\u001b[39m \u001b[38;5;28mself\u001b[39m\u001b[38;5;241m.\u001b[39mndim\n\u001b[0;32m    999\u001b[0m \u001b[38;5;28;01mif\u001b[39;00m retval \u001b[38;5;129;01mis\u001b[39;00m \u001b[38;5;28mself\u001b[39m\u001b[38;5;241m.\u001b[39mobj:\n\u001b[0;32m   1000\u001b[0m     \u001b[38;5;66;03m# if all axes were a null slice (`df.loc[:, :]`), ensure we still\u001b[39;00m\n\u001b[0;32m   1001\u001b[0m     \u001b[38;5;66;03m# return a new object (https://github.com/pandas-dev/pandas/pull/49469)\u001b[39;00m\n\u001b[0;32m   1002\u001b[0m     retval \u001b[38;5;241m=\u001b[39m retval\u001b[38;5;241m.\u001b[39mcopy(deep\u001b[38;5;241m=\u001b[39m\u001b[38;5;28;01mFalse\u001b[39;00m)\n",
      "\u001b[1;31mAssertionError\u001b[0m: "
     ]
    }
   ],
   "source": [
    "# Step 3: Run actual backtest\n",
    "# Do NOT edit this cell without a very good reason\n",
    "\n",
    "# Add 100 initial cash to our portfolios\n",
    "portfolio_db.add_cash(100)\n",
    "\n",
    "# Get our list of unique dates\n",
    "udates = data_processor.unique_dates()\n",
    "\n",
    "# Main loop for the backtest\n",
    "for date in udates:\n",
    "    # dataframes for the date\n",
    "    # print(date)\n",
    "    signal_df = data_processor.signal_df_for_date(date)\n",
    "    price_df = data_processor.price_df_for_date(date)\n",
    "\n",
    "    # Update prices to reflect the new values after however much time has passed\n",
    "    # Need to dot his first each date because the updated prices may affect our trading rule\n",
    "    portfolio_db.update_prices(price_df)\n",
    "    \n",
    "    # Ask the trading rule what trades we should make\n",
    "    open_trades_df, close_trades_df = trading_rule.compute_trades(signal_df=signal_df)\n",
    "\n",
    "    # apply dates to trades\n",
    "    open_trades_df.loc[:,'open_datetime'] = date\n",
    "    close_trades_df.loc[:,'close_datetime'] = date\n",
    "\n",
    "    # execute trades\n",
    "    trade_executor.execute_opens(open_trades_df=open_trades_df, price_df=price_df)\n",
    "    trade_executor.execute_closes(close_trades_df=close_trades_df, price_df=price_df)    \n",
    "    \n",
    "    # Record account data for today\n",
    "    portfolio_db.record_account_data(price_df=price_df,datetime=date)\n",
    "    \n",
    "    # Do some fancy output tracking our NAV and margin requirement each day\n",
    "    clear_output(wait=True)\n",
    "    display( np.datetime_as_string(np.datetime64(date), unit='D') + ': ' + str(portfolio_db.current_nav()) + \" | \" + str(portfolio_db.current_margin()))\n",
    "    \n",
    "# Now that the loop is done, tell the statistican to output stats\n",
    "statistican.output_stats()"
   ]
  },
  {
   "cell_type": "code",
   "execution_count": null,
   "metadata": {},
   "outputs": [],
   "source": []
  }
 ],
 "metadata": {
  "kernelspec": {
   "display_name": "Python 3 (ipykernel)",
   "language": "python",
   "name": "python3"
  },
  "language_info": {
   "codemirror_mode": {
    "name": "ipython",
    "version": 3
   },
   "file_extension": ".py",
   "mimetype": "text/x-python",
   "name": "python",
   "nbconvert_exporter": "python",
   "pygments_lexer": "ipython3",
   "version": "3.11.5"
  }
 },
 "nbformat": 4,
 "nbformat_minor": 4
}
