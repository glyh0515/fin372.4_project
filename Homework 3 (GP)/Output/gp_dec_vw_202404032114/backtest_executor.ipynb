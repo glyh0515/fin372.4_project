{
 "cells": [
  {
   "cell_type": "code",
   "execution_count": 3,
   "metadata": {},
   "outputs": [],
   "source": [
    "import numpy as np\n",
    "import pandas as pd"
   ]
  },
  {
   "cell_type": "code",
   "execution_count": 1,
   "metadata": {
    "tags": []
   },
   "outputs": [],
   "source": [
    "class BacktestExecutor():\n",
    "    \n",
    "    # Constructor stores reference to the portfolio_db\n",
    "    def __init__(self,portfolio_db):\n",
    "        self.portfolio_db = portfolio_db\n",
    "    \n",
    "    # Executes the passed open_trades_df using the information in the passed price_df\n",
    "    def execute_opens(self,open_trades_df,price_df):\n",
    "        # We dont' want to mess up the columns of the passed trades_df, so we save their names and order\n",
    "        original_columns = open_trades_df.columns\n",
    "        \n",
    "        # Need security_ids to have type object, change them if they don't\n",
    "        if open_trades_df.loc[:,'security_id'].dtype != object:            \n",
    "            open_trades_df['security_id'] = open_trades_df.loc[:,'security_id'].astype(object)            \n",
    "            \n",
    "        if price_df.loc[:,'security_id'].dtype != object:            \n",
    "            price_df['security_id'] = price_df.loc[:,'security_id'].astype(object)\n",
    "\n",
    "        # Assume we can execute at close with no slippage, so all we need from price_df is 'prc'\n",
    "        open_trades_df = open_trades_df.merge(price_df.loc[:,['security_id','prc']],on='security_id')\n",
    "        open_trades_df['open_average_price'] = open_trades_df['prc']\n",
    "        open_trades_df = open_trades_df[original_columns]\n",
    "                \n",
    "        # now update portfolio_db by calling open_trades\n",
    "        self.portfolio_db.open_trades(open_trades_df)\n",
    "        \n",
    "    # Executes the passed close_trades_df using the information in the passed price_df\n",
    "    def execute_closes(self,close_trades_df,price_df):\n",
    "        original_columns = close_trades_df.columns\n",
    "\n",
    "        # Need security_ids to have type object, change them if they don't\n",
    "        if close_trades_df['security_id'].dtype != object:            \n",
    "            close_trades_df['security_id'] = close_trades_df['security_id'].astype(object)\n",
    "            \n",
    "        if price_df['security_id'].dtype != object:            \n",
    "            price_df['security_id'] = price_df['security_id'].astype(object)\n",
    "\n",
    "        # for now, assume we can execute at close with no slippage, so all we need from price_df is 'prc'\n",
    "        close_trades_df = close_trades_df.merge(price_df.loc[:,['security_id','prc']],on='security_id')\n",
    "        close_trades_df['close_average_price'] = close_trades_df['prc']\n",
    "        close_trades_df = close_trades_df[original_columns]\n",
    "            \n",
    "        # now update portfolio_db by calling close_trades\n",
    "        self.portfolio_db.close_trades(close_trades_df)"
   ]
  }
 ],
 "metadata": {
  "kernelspec": {
   "display_name": "Python 3 (ipykernel)",
   "language": "python",
   "name": "python3"
  },
  "language_info": {
   "codemirror_mode": {
    "name": "ipython",
    "version": 3
   },
   "file_extension": ".py",
   "mimetype": "text/x-python",
   "name": "python",
   "nbconvert_exporter": "python",
   "pygments_lexer": "ipython3",
   "version": "3.12.2"
  }
 },
 "nbformat": 4,
 "nbformat_minor": 4
}
